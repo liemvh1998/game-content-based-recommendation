{
 "cells": [
  {
   "cell_type": "markdown",
   "metadata": {},
   "source": [
    "### Gathering Rating of User"
   ]
  },
  {
   "cell_type": "code",
   "execution_count": 36,
   "metadata": {},
   "outputs": [
    {
     "name": "stderr",
     "output_type": "stream",
     "text": [
      "C:\\Users\\Admin\\AppData\\Local\\Temp\\ipykernel_19116\\699501721.py:24: FutureWarning: Setting an item of incompatible dtype is deprecated and will raise an error in a future version of pandas. Value '?' has dtype incompatible with float64, please explicitly cast to a compatible dtype first.\n",
      "  df.fillna('?', inplace=True)\n"
     ]
    }
   ],
   "source": [
    "import pandas as pd\n",
    "from sklearn.metrics.pairwise import cosine_similarity\n",
    "\n",
    "# data = {\n",
    "#     'Game': ['PUBG', 'ARK Survival', 'The Forest', 'FIFA 23', 'NBA 2K24'],\n",
    "#     'A': [5, 5, '?', 1, 1],\n",
    "#     'B': [5, '?', 4, 1, 0],\n",
    "#     'C': [0, '?', 1, 4, 5],\n",
    "#     'D': [0, 0, '?', 4, '?'],\n",
    "#     'E': [1, '?', '?', 4, '?'],\n",
    "#     'F': ['?', '?', 1, '?', '?']\n",
    "# }\n",
    "\n",
    "# Load the CSV file into a DataFrame\n",
    "df_loaded = pd.read_csv('ratings.csv')\n",
    "\n",
    "\n",
    "# Pivot the DataFrame to get the original format\n",
    "df = df_loaded.pivot(index='Game', columns='User', values='Rating').reset_index()\n",
    "\n",
    "\n",
    "# Ensure the order of games is as specified\n",
    "game_order = ['PUBG', 'ARK Survival', 'The Forest', 'FIFA 23', 'NBA 2K24']\n",
    "df.fillna('?', inplace=True)\n",
    "df['Game'] = pd.Categorical(df['Game'], categories=game_order, ordered=True)\n",
    "df.sort_values('Game', inplace=True)\n",
    "df = df.reset_index()\n",
    "del df['index']\n",
    "\n"
   ]
  },
  {
   "cell_type": "code",
   "execution_count": 37,
   "metadata": {},
   "outputs": [
    {
     "data": {
      "text/html": [
       "<div>\n",
       "<style scoped>\n",
       "    .dataframe tbody tr th:only-of-type {\n",
       "        vertical-align: middle;\n",
       "    }\n",
       "\n",
       "    .dataframe tbody tr th {\n",
       "        vertical-align: top;\n",
       "    }\n",
       "\n",
       "    .dataframe thead th {\n",
       "        text-align: right;\n",
       "    }\n",
       "</style>\n",
       "<table border=\"1\" class=\"dataframe\">\n",
       "  <thead>\n",
       "    <tr style=\"text-align: right;\">\n",
       "      <th>User</th>\n",
       "      <th>Game</th>\n",
       "      <th>A</th>\n",
       "      <th>B</th>\n",
       "      <th>C</th>\n",
       "      <th>D</th>\n",
       "      <th>E</th>\n",
       "      <th>F</th>\n",
       "    </tr>\n",
       "  </thead>\n",
       "  <tbody>\n",
       "    <tr>\n",
       "      <th>0</th>\n",
       "      <td>PUBG</td>\n",
       "      <td>5.0</td>\n",
       "      <td>5.0</td>\n",
       "      <td>0.0</td>\n",
       "      <td>0.0</td>\n",
       "      <td>1.0</td>\n",
       "      <td>?</td>\n",
       "    </tr>\n",
       "    <tr>\n",
       "      <th>1</th>\n",
       "      <td>ARK Survival</td>\n",
       "      <td>5.0</td>\n",
       "      <td>?</td>\n",
       "      <td>?</td>\n",
       "      <td>0.0</td>\n",
       "      <td>?</td>\n",
       "      <td>?</td>\n",
       "    </tr>\n",
       "    <tr>\n",
       "      <th>2</th>\n",
       "      <td>The Forest</td>\n",
       "      <td>?</td>\n",
       "      <td>4.0</td>\n",
       "      <td>1.0</td>\n",
       "      <td>?</td>\n",
       "      <td>?</td>\n",
       "      <td>1.0</td>\n",
       "    </tr>\n",
       "    <tr>\n",
       "      <th>3</th>\n",
       "      <td>FIFA 23</td>\n",
       "      <td>1.0</td>\n",
       "      <td>1.0</td>\n",
       "      <td>4.0</td>\n",
       "      <td>4.0</td>\n",
       "      <td>4.0</td>\n",
       "      <td>?</td>\n",
       "    </tr>\n",
       "    <tr>\n",
       "      <th>4</th>\n",
       "      <td>NBA 2K24</td>\n",
       "      <td>1.0</td>\n",
       "      <td>0.0</td>\n",
       "      <td>5.0</td>\n",
       "      <td>?</td>\n",
       "      <td>?</td>\n",
       "      <td>?</td>\n",
       "    </tr>\n",
       "  </tbody>\n",
       "</table>\n",
       "</div>"
      ],
      "text/plain": [
       "User          Game    A    B    C    D    E    F\n",
       "0             PUBG  5.0  5.0  0.0  0.0  1.0    ?\n",
       "1     ARK Survival  5.0    ?    ?  0.0    ?    ?\n",
       "2       The Forest    ?  4.0  1.0    ?    ?  1.0\n",
       "3          FIFA 23  1.0  1.0  4.0  4.0  4.0    ?\n",
       "4         NBA 2K24  1.0  0.0  5.0    ?    ?    ?"
      ]
     },
     "execution_count": 37,
     "metadata": {},
     "output_type": "execute_result"
    }
   ],
   "source": [
    "df"
   ]
  },
  {
   "cell_type": "markdown",
   "metadata": {},
   "source": [
    "### Step 2 Build Profile "
   ]
  },
  {
   "cell_type": "code",
   "execution_count": 38,
   "metadata": {},
   "outputs": [
    {
     "name": "stderr",
     "output_type": "stream",
     "text": [
      "C:\\Users\\Admin\\AppData\\Local\\Temp\\ipykernel_19116\\1796858411.py:1: FutureWarning: Downcasting behavior in `replace` is deprecated and will be removed in a future version. To retain the old behavior, explicitly call `result.infer_objects(copy=False)`. To opt-in to the future behavior, set `pd.set_option('future.no_silent_downcasting', True)`\n",
      "  df.replace('?', 0, inplace=True)\n"
     ]
    }
   ],
   "source": [
    "df.replace('?', 0, inplace=True)\n"
   ]
  },
  {
   "cell_type": "code",
   "execution_count": 39,
   "metadata": {},
   "outputs": [
    {
     "data": {
      "text/html": [
       "<div>\n",
       "<style scoped>\n",
       "    .dataframe tbody tr th:only-of-type {\n",
       "        vertical-align: middle;\n",
       "    }\n",
       "\n",
       "    .dataframe tbody tr th {\n",
       "        vertical-align: top;\n",
       "    }\n",
       "\n",
       "    .dataframe thead th {\n",
       "        text-align: right;\n",
       "    }\n",
       "</style>\n",
       "<table border=\"1\" class=\"dataframe\">\n",
       "  <thead>\n",
       "    <tr style=\"text-align: right;\">\n",
       "      <th>User</th>\n",
       "      <th>Game</th>\n",
       "      <th>A</th>\n",
       "      <th>B</th>\n",
       "      <th>C</th>\n",
       "      <th>D</th>\n",
       "      <th>E</th>\n",
       "      <th>F</th>\n",
       "    </tr>\n",
       "  </thead>\n",
       "  <tbody>\n",
       "    <tr>\n",
       "      <th>0</th>\n",
       "      <td>PUBG</td>\n",
       "      <td>5.0</td>\n",
       "      <td>5.0</td>\n",
       "      <td>0.0</td>\n",
       "      <td>0.0</td>\n",
       "      <td>1.0</td>\n",
       "      <td>0.0</td>\n",
       "    </tr>\n",
       "    <tr>\n",
       "      <th>1</th>\n",
       "      <td>ARK Survival</td>\n",
       "      <td>5.0</td>\n",
       "      <td>0.0</td>\n",
       "      <td>0.0</td>\n",
       "      <td>0.0</td>\n",
       "      <td>0.0</td>\n",
       "      <td>0.0</td>\n",
       "    </tr>\n",
       "    <tr>\n",
       "      <th>2</th>\n",
       "      <td>The Forest</td>\n",
       "      <td>0.0</td>\n",
       "      <td>4.0</td>\n",
       "      <td>1.0</td>\n",
       "      <td>0.0</td>\n",
       "      <td>0.0</td>\n",
       "      <td>1.0</td>\n",
       "    </tr>\n",
       "    <tr>\n",
       "      <th>3</th>\n",
       "      <td>FIFA 23</td>\n",
       "      <td>1.0</td>\n",
       "      <td>1.0</td>\n",
       "      <td>4.0</td>\n",
       "      <td>4.0</td>\n",
       "      <td>4.0</td>\n",
       "      <td>0.0</td>\n",
       "    </tr>\n",
       "    <tr>\n",
       "      <th>4</th>\n",
       "      <td>NBA 2K24</td>\n",
       "      <td>1.0</td>\n",
       "      <td>0.0</td>\n",
       "      <td>5.0</td>\n",
       "      <td>0.0</td>\n",
       "      <td>0.0</td>\n",
       "      <td>0.0</td>\n",
       "    </tr>\n",
       "  </tbody>\n",
       "</table>\n",
       "</div>"
      ],
      "text/plain": [
       "User          Game    A    B    C    D    E    F\n",
       "0             PUBG  5.0  5.0  0.0  0.0  1.0  0.0\n",
       "1     ARK Survival  5.0  0.0  0.0  0.0  0.0  0.0\n",
       "2       The Forest  0.0  4.0  1.0  0.0  0.0  1.0\n",
       "3          FIFA 23  1.0  1.0  4.0  4.0  4.0  0.0\n",
       "4         NBA 2K24  1.0  0.0  5.0  0.0  0.0  0.0"
      ]
     },
     "execution_count": 39,
     "metadata": {},
     "output_type": "execute_result"
    }
   ],
   "source": [
    "df"
   ]
  },
  {
   "cell_type": "markdown",
   "metadata": {},
   "source": [
    "### Step 3: Calculate Similarity"
   ]
  },
  {
   "cell_type": "code",
   "execution_count": 40,
   "metadata": {},
   "outputs": [],
   "source": [
    "# Tính toán ma trận cosine similarity\n",
    "features = df.drop('Game', axis=1)\n",
    "cosine_sim = cosine_similarity(features)"
   ]
  },
  {
   "cell_type": "code",
   "execution_count": 41,
   "metadata": {},
   "outputs": [
    {
     "data": {
      "text/plain": [
       "array([[1.        , 0.70014004, 0.66009836, 0.27724131, 0.13730876],\n",
       "       [0.70014004, 1.        , 0.        , 0.14142136, 0.19611614],\n",
       "       [0.66009836, 0.        , 1.        , 0.26666667, 0.23112508],\n",
       "       [0.27724131, 0.14142136, 0.26666667, 1.        , 0.58243521],\n",
       "       [0.13730876, 0.19611614, 0.23112508, 0.58243521, 1.        ]])"
      ]
     },
     "execution_count": 41,
     "metadata": {},
     "output_type": "execute_result"
    }
   ],
   "source": [
    "cosine_sim"
   ]
  },
  {
   "cell_type": "markdown",
   "metadata": {},
   "source": [
    "### Step: 4 Build Recommend Funcion"
   ]
  },
  {
   "cell_type": "code",
   "execution_count": 42,
   "metadata": {},
   "outputs": [],
   "source": [
    "# Tạo hàm gợi ý dựa trên tên game\n",
    "def recommend(game, cosine_sim=cosine_sim):\n",
    "    idx = df[df['Game'] == game].index[0]\n",
    "    sim_scores = list(enumerate(cosine_sim[idx]))\n",
    "    sim_scores = sorted(sim_scores, key=lambda x: x[1], reverse=True)\n",
    "    # sim_scores = sim_scores[1:4]  # Lấy 3 game tương tự nhất\n",
    "    game_indices = [i[0] for i in sim_scores]\n",
    "    return df['Game'].iloc[game_indices]"
   ]
  },
  {
   "cell_type": "markdown",
   "metadata": {},
   "source": [
    "### Step 5: Testing Recommendation"
   ]
  },
  {
   "cell_type": "code",
   "execution_count": 43,
   "metadata": {},
   "outputs": [
    {
     "name": "stdout",
     "output_type": "stream",
     "text": [
      "3         FIFA 23\n",
      "4        NBA 2K24\n",
      "0            PUBG\n",
      "2      The Forest\n",
      "1    ARK Survival\n",
      "Name: Game, dtype: category\n",
      "Categories (5, object): ['PUBG' < 'ARK Survival' < 'The Forest' < 'FIFA 23' < 'NBA 2K24']\n"
     ]
    }
   ],
   "source": [
    "# Ví dụ: Gợi ý game tương tự PUBG\n",
    "print(recommend('FIFA 23'))"
   ]
  }
 ],
 "metadata": {
  "kernelspec": {
   "display_name": "base",
   "language": "python",
   "name": "python3"
  },
  "language_info": {
   "codemirror_mode": {
    "name": "ipython",
    "version": 3
   },
   "file_extension": ".py",
   "mimetype": "text/x-python",
   "name": "python",
   "nbconvert_exporter": "python",
   "pygments_lexer": "ipython3",
   "version": "3.12.3"
  }
 },
 "nbformat": 4,
 "nbformat_minor": 2
}
