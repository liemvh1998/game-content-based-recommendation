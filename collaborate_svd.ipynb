{
 "cells": [
  {
   "cell_type": "code",
   "execution_count": 39,
   "metadata": {},
   "outputs": [],
   "source": [
    "import numpy as np\n",
    "from scipy.sparse.linalg import svds\n"
   ]
  },
  {
   "cell_type": "code",
   "execution_count": 40,
   "metadata": {},
   "outputs": [],
   "source": [
    "# R = np.array([\n",
    "#     [5, 3, 0, 1],\n",
    "#     [4, 0, 0, 1],\n",
    "#     [1, 1, 0, 5],\n",
    "#     [1, 0, 0, 4],\n",
    "#     [0, 1, 5, 4],\n",
    "# ])\n",
    "R = np.array([\n",
    "    [1, 1, 0, 1],\n",
    "    [1, 0, 1, 1],\n",
    "    [1, 1, 0, 1],\n",
    "    [1, 0, 0, 0],\n",
    "    [0, 1, 0, 1],\n",
    "])\n",
    "# Tính trung bình đánh giá của mỗi người dùng\n",
    "user_ratings_mean = np.mean(R, axis=1)\n",
    "R_demeaned = R - user_ratings_mean.reshape(-1, 1)\n"
   ]
  },
  {
   "cell_type": "code",
   "execution_count": 41,
   "metadata": {},
   "outputs": [
    {
     "data": {
      "text/plain": [
       "array([[0.75],\n",
       "       [0.75],\n",
       "       [0.75],\n",
       "       [0.25],\n",
       "       [0.5 ]])"
      ]
     },
     "execution_count": 41,
     "metadata": {},
     "output_type": "execute_result"
    }
   ],
   "source": [
    "user_ratings_mean.reshape(-1, 1)"
   ]
  },
  {
   "cell_type": "code",
   "execution_count": 42,
   "metadata": {},
   "outputs": [],
   "source": [
    "U, sigma, Vt = svds(R_demeaned, k=1)\n",
    "sigma = np.diag(sigma)\n"
   ]
  },
  {
   "cell_type": "code",
   "execution_count": 43,
   "metadata": {},
   "outputs": [
    {
     "name": "stdout",
     "output_type": "stream",
     "text": [
      "Ma trận đánh giá dự đoán:\n",
      "[[ 0.64280339  1.17475462  0.19725943  0.98518256]\n",
      " [ 0.83237545  0.42359645  1.17475462  0.56927348]\n",
      " [ 0.64280339  1.17475462  0.19725943  0.98518256]\n",
      " [ 0.27078934  0.16762455  0.35719661  0.2043895 ]\n",
      " [ 0.37201405  1.00713007 -0.15993717  0.78079305]]\n"
     ]
    }
   ],
   "source": [
    "R_predicted = np.dot(np.dot(U, sigma), Vt) + user_ratings_mean.reshape(-1, 1)\n",
    "print(\"Ma trận đánh giá dự đoán:\")\n",
    "print(R_predicted)\n"
   ]
  },
  {
   "cell_type": "code",
   "execution_count": 44,
   "metadata": {},
   "outputs": [
    {
     "name": "stdout",
     "output_type": "stream",
     "text": [
      "Top 5 game được gợi ý cho người dùng 5:\n",
      "Game 2 với đánh giá dự đoán 1.01\n",
      "Game 4 với đánh giá dự đoán 0.78\n",
      "Game 1 với đánh giá dự đoán 0.37\n",
      "Game 3 với đánh giá dự đoán -0.16\n"
     ]
    }
   ],
   "source": [
    "def recommend_games(R_predicted, user_id, original_ratings, num_recommendations=5):\n",
    "    user_row_number = user_id - 1  # Chỉ số hàng của người dùng trong ma trận\n",
    "    sorted_user_predictions = R_predicted[user_row_number].argsort()[::-1]  # Sắp xếp theo thứ tự giảm dần\n",
    "\n",
    "    print(f\"Top {num_recommendations} game được gợi ý cho người dùng {user_id}:\")\n",
    "    for i in sorted_user_predictions[:num_recommendations]:\n",
    "        print(f\"Game {i + 1} với đánh giá dự đoán {R_predicted[user_row_number, i]:.2f}\")\n",
    "\n",
    "# Ví dụ: Gợi ý game cho người dùng 1\n",
    "recommend_games(R_predicted, user_id=5, original_ratings=R)\n"
   ]
  },
  {
   "cell_type": "code",
   "execution_count": 45,
   "metadata": {},
   "outputs": [],
   "source": [
    "a = R_predicted[4].argsort()[::-1]"
   ]
  }
 ],
 "metadata": {
  "kernelspec": {
   "display_name": "base",
   "language": "python",
   "name": "python3"
  },
  "language_info": {
   "codemirror_mode": {
    "name": "ipython",
    "version": 3
   },
   "file_extension": ".py",
   "mimetype": "text/x-python",
   "name": "python",
   "nbconvert_exporter": "python",
   "pygments_lexer": "ipython3",
   "version": "3.12.3"
  }
 },
 "nbformat": 4,
 "nbformat_minor": 2
}
