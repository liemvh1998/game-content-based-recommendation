{
 "cells": [
  {
   "cell_type": "code",
   "execution_count": 3,
   "metadata": {},
   "outputs": [
    {
     "name": "stdout",
     "output_type": "stream",
     "text": [
      "The CSV file with columns: user, game, rating has been successfully exported as cleaned_ratings.csv\n"
     ]
    }
   ],
   "source": [
    "import pandas as pd\n",
    "\n",
    "# Define the data dictionary\n",
    "data = {\n",
    "    'Game': ['PUBG', 'ARK Survival', 'The Forest', 'FIFA 23', 'NBA 2K24'],\n",
    "    'A': [5, 5, '?', 1, 1],\n",
    "    'B': [5, '?', 4, 1, 0],\n",
    "    'C': [0, '?', 1, 4, 5],\n",
    "    'D': [0, 0, '?', 4, '?'],\n",
    "    'E': [1, '?', '?', 4, '?'],\n",
    "    'F': ['?', '?', 1, '?', '?']\n",
    "}\n",
    "\n",
    "# Convert the data dictionary to a DataFrame\n",
    "df = pd.DataFrame(data)\n",
    "\n",
    "# Melt the DataFrame to have columns: user, game, rating\n",
    "df_melted = df.melt(id_vars=['Game'], var_name='User', value_name='Rating')\n",
    "\n",
    "# Remove rows with the value '?'\n",
    "df_cleaned = df_melted[df_melted['Rating'] != '?']\n",
    "\n",
    "# Export the cleaned DataFrame to a CSV file\n",
    "df_cleaned.to_csv('cleaned_ratings.csv', index=False)\n",
    "\n",
    "# Print a success message\n",
    "print(\"The CSV file with columns: user, game, rating has been successfully exported as cleaned_ratings.csv\")\n"
   ]
  }
 ],
 "metadata": {
  "kernelspec": {
   "display_name": "Python 3",
   "language": "python",
   "name": "python3"
  },
  "language_info": {
   "codemirror_mode": {
    "name": "ipython",
    "version": 3
   },
   "file_extension": ".py",
   "mimetype": "text/x-python",
   "name": "python",
   "nbconvert_exporter": "python",
   "pygments_lexer": "ipython3",
   "version": "3.12.4"
  }
 },
 "nbformat": 4,
 "nbformat_minor": 2
}
